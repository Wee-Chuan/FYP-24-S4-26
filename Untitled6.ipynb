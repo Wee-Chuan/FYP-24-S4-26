{
  "nbformat": 4,
  "nbformat_minor": 0,
  "metadata": {
    "colab": {
      "provenance": [],
      "include_colab_link": true
    },
    "kernelspec": {
      "name": "python3",
      "display_name": "Python 3"
    },
    "language_info": {
      "name": "python"
    }
  },
  "cells": [
    {
      "cell_type": "markdown",
      "metadata": {
        "id": "view-in-github",
        "colab_type": "text"
      },
      "source": [
        "<a href=\"https://colab.research.google.com/github/Wee-Chuan/FYP-24-S4-26/blob/main/Untitled6.ipynb\" target=\"_parent\"><img src=\"https://colab.research.google.com/assets/colab-badge.svg\" alt=\"Open In Colab\"/></a>"
      ]
    },
    {
      "cell_type": "code",
      "execution_count": null,
      "metadata": {
        "colab": {
          "base_uri": "https://localhost:8080/"
        },
        "id": "x1igZxxUC4lE",
        "outputId": "6f0718f6-abdc-4e59-cbc7-5dd602f92584"
      },
      "outputs": [
        {
          "output_type": "stream",
          "name": "stdout",
          "text": [
            "Collecting pyLDAvis\n",
            "  Downloading pyLDAvis-3.4.1-py3-none-any.whl.metadata (4.2 kB)\n",
            "Requirement already satisfied: gensim in /usr/local/lib/python3.10/dist-packages (4.3.3)\n",
            "Requirement already satisfied: nltk in /usr/local/lib/python3.10/dist-packages (3.9.1)\n",
            "Requirement already satisfied: pandas in /usr/local/lib/python3.10/dist-packages (2.2.2)\n",
            "Requirement already satisfied: numpy>=1.24.2 in /usr/local/lib/python3.10/dist-packages (from pyLDAvis) (1.26.4)\n",
            "Requirement already satisfied: scipy in /usr/local/lib/python3.10/dist-packages (from pyLDAvis) (1.13.1)\n",
            "Requirement already satisfied: joblib>=1.2.0 in /usr/local/lib/python3.10/dist-packages (from pyLDAvis) (1.4.2)\n",
            "Requirement already satisfied: jinja2 in /usr/local/lib/python3.10/dist-packages (from pyLDAvis) (3.1.4)\n",
            "Requirement already satisfied: numexpr in /usr/local/lib/python3.10/dist-packages (from pyLDAvis) (2.10.2)\n",
            "Collecting funcy (from pyLDAvis)\n",
            "  Downloading funcy-2.0-py2.py3-none-any.whl.metadata (5.9 kB)\n",
            "Requirement already satisfied: scikit-learn>=1.0.0 in /usr/local/lib/python3.10/dist-packages (from pyLDAvis) (1.6.0)\n",
            "Requirement already satisfied: setuptools in /usr/local/lib/python3.10/dist-packages (from pyLDAvis) (75.1.0)\n",
            "Requirement already satisfied: smart-open>=1.8.1 in /usr/local/lib/python3.10/dist-packages (from gensim) (7.1.0)\n",
            "Requirement already satisfied: click in /usr/local/lib/python3.10/dist-packages (from nltk) (8.1.7)\n",
            "Requirement already satisfied: regex>=2021.8.3 in /usr/local/lib/python3.10/dist-packages (from nltk) (2024.11.6)\n",
            "Requirement already satisfied: tqdm in /usr/local/lib/python3.10/dist-packages (from nltk) (4.67.1)\n",
            "Requirement already satisfied: python-dateutil>=2.8.2 in /usr/local/lib/python3.10/dist-packages (from pandas) (2.8.2)\n",
            "Requirement already satisfied: pytz>=2020.1 in /usr/local/lib/python3.10/dist-packages (from pandas) (2024.2)\n",
            "Requirement already satisfied: tzdata>=2022.7 in /usr/local/lib/python3.10/dist-packages (from pandas) (2024.2)\n",
            "Requirement already satisfied: six>=1.5 in /usr/local/lib/python3.10/dist-packages (from python-dateutil>=2.8.2->pandas) (1.17.0)\n",
            "Requirement already satisfied: threadpoolctl>=3.1.0 in /usr/local/lib/python3.10/dist-packages (from scikit-learn>=1.0.0->pyLDAvis) (3.5.0)\n",
            "Requirement already satisfied: wrapt in /usr/local/lib/python3.10/dist-packages (from smart-open>=1.8.1->gensim) (1.17.0)\n",
            "Requirement already satisfied: MarkupSafe>=2.0 in /usr/local/lib/python3.10/dist-packages (from jinja2->pyLDAvis) (3.0.2)\n",
            "Downloading pyLDAvis-3.4.1-py3-none-any.whl (2.6 MB)\n",
            "\u001b[2K   \u001b[90m━━━━━━━━━━━━━━━━━━━━━━━━━━━━━━━━━━━━━━━━\u001b[0m \u001b[32m2.6/2.6 MB\u001b[0m \u001b[31m22.5 MB/s\u001b[0m eta \u001b[36m0:00:00\u001b[0m\n",
            "\u001b[?25hDownloading funcy-2.0-py2.py3-none-any.whl (30 kB)\n",
            "Installing collected packages: funcy, pyLDAvis\n",
            "Successfully installed funcy-2.0 pyLDAvis-3.4.1\n"
          ]
        }
      ],
      "source": [
        "# Install required libraries\n",
        "!pip install pyLDAvis gensim nltk pandas\n"
      ]
    },
    {
      "cell_type": "code",
      "source": [
        "# Import necessary libraries\n",
        "import pandas as pd\n",
        "import nltk\n",
        "import gensim\n",
        "from gensim import corpora\n",
        "import pyLDAvis\n",
        "import pyLDAvis.gensim\n",
        "from google.colab import files\n",
        "import numpy as np\n",
        "# Download nltk data for stopwords\n",
        "nltk.download('stopwords')\n",
        "nltk.download('punkt')\n",
        "\n"
      ],
      "metadata": {
        "colab": {
          "base_uri": "https://localhost:8080/"
        },
        "id": "mja3t8PmDuwF",
        "outputId": "60e5b529-227b-4f59-bb98-a6457ab087bf"
      },
      "execution_count": null,
      "outputs": [
        {
          "output_type": "stream",
          "name": "stderr",
          "text": [
            "[nltk_data] Downloading package stopwords to /root/nltk_data...\n",
            "[nltk_data]   Unzipping corpora/stopwords.zip.\n",
            "[nltk_data] Downloading package punkt to /root/nltk_data...\n",
            "[nltk_data]   Unzipping tokenizers/punkt.zip.\n"
          ]
        },
        {
          "output_type": "execute_result",
          "data": {
            "text/plain": [
              "True"
            ]
          },
          "metadata": {},
          "execution_count": 2
        }
      ]
    },
    {
      "cell_type": "code",
      "source": [
        "# Upload CSV file\n",
        "uploaded = files.upload()\n",
        "\n",
        "# After uploading, get the file name\n",
        "file_name = next(iter(uploaded))  # Get the name of the uploaded file\n",
        "\n",
        "# Load the dataset\n",
        "df = pd.read_csv(file_name)\n",
        "\n",
        "# Display the first few rows to inspect the structure\n",
        "df.head()\n",
        "\n",
        "# Ensure 'text' contains the comments (assuming 'text' column exists)\n",
        "comments = df['text'].dropna().tolist()  # Extract the text/comments for LDA analysis\n"
      ],
      "metadata": {
        "colab": {
          "base_uri": "https://localhost:8080/",
          "height": 93
        },
        "id": "TziuvSg0DxlV",
        "outputId": "d0317965-23fc-4ca7-c8da-806a51eb5482"
      },
      "execution_count": null,
      "outputs": [
        {
          "metadata": {
            "tags": null
          },
          "name": "stderr",
          "output_type": "stream",
          "text": [
            "/usr/local/lib/python3.10/dist-packages/ipykernel/ipkernel.py:283: DeprecationWarning: `should_run_async` will not call `transform_cell` automatically in the future. Please pass the result to `transformed_cell` argument and any exception that happen during thetransform in `preprocessing_exc_tuple` in IPython 7.17 and above.\n",
            "  and should_run_async(code)\n"
          ]
        },
        {
          "data": {
            "text/html": [
              "\n",
              "     <input type=\"file\" id=\"files-08e77d6a-7548-4a06-8ff8-508c8299e3dc\" name=\"files[]\" multiple disabled\n",
              "        style=\"border:none\" />\n",
              "     <output id=\"result-08e77d6a-7548-4a06-8ff8-508c8299e3dc\">\n",
              "      Upload widget is only available when the cell has been executed in the\n",
              "      current browser session. Please rerun this cell to enable.\n",
              "      </output>\n",
              "      <script>// Copyright 2017 Google LLC\n",
              "//\n",
              "// Licensed under the Apache License, Version 2.0 (the \"License\");\n",
              "// you may not use this file except in compliance with the License.\n",
              "// You may obtain a copy of the License at\n",
              "//\n",
              "//      http://www.apache.org/licenses/LICENSE-2.0\n",
              "//\n",
              "// Unless required by applicable law or agreed to in writing, software\n",
              "// distributed under the License is distributed on an \"AS IS\" BASIS,\n",
              "// WITHOUT WARRANTIES OR CONDITIONS OF ANY KIND, either express or implied.\n",
              "// See the License for the specific language governing permissions and\n",
              "// limitations under the License.\n",
              "\n",
              "/**\n",
              " * @fileoverview Helpers for google.colab Python module.\n",
              " */\n",
              "(function(scope) {\n",
              "function span(text, styleAttributes = {}) {\n",
              "  const element = document.createElement('span');\n",
              "  element.textContent = text;\n",
              "  for (const key of Object.keys(styleAttributes)) {\n",
              "    element.style[key] = styleAttributes[key];\n",
              "  }\n",
              "  return element;\n",
              "}\n",
              "\n",
              "// Max number of bytes which will be uploaded at a time.\n",
              "const MAX_PAYLOAD_SIZE = 100 * 1024;\n",
              "\n",
              "function _uploadFiles(inputId, outputId) {\n",
              "  const steps = uploadFilesStep(inputId, outputId);\n",
              "  const outputElement = document.getElementById(outputId);\n",
              "  // Cache steps on the outputElement to make it available for the next call\n",
              "  // to uploadFilesContinue from Python.\n",
              "  outputElement.steps = steps;\n",
              "\n",
              "  return _uploadFilesContinue(outputId);\n",
              "}\n",
              "\n",
              "// This is roughly an async generator (not supported in the browser yet),\n",
              "// where there are multiple asynchronous steps and the Python side is going\n",
              "// to poll for completion of each step.\n",
              "// This uses a Promise to block the python side on completion of each step,\n",
              "// then passes the result of the previous step as the input to the next step.\n",
              "function _uploadFilesContinue(outputId) {\n",
              "  const outputElement = document.getElementById(outputId);\n",
              "  const steps = outputElement.steps;\n",
              "\n",
              "  const next = steps.next(outputElement.lastPromiseValue);\n",
              "  return Promise.resolve(next.value.promise).then((value) => {\n",
              "    // Cache the last promise value to make it available to the next\n",
              "    // step of the generator.\n",
              "    outputElement.lastPromiseValue = value;\n",
              "    return next.value.response;\n",
              "  });\n",
              "}\n",
              "\n",
              "/**\n",
              " * Generator function which is called between each async step of the upload\n",
              " * process.\n",
              " * @param {string} inputId Element ID of the input file picker element.\n",
              " * @param {string} outputId Element ID of the output display.\n",
              " * @return {!Iterable<!Object>} Iterable of next steps.\n",
              " */\n",
              "function* uploadFilesStep(inputId, outputId) {\n",
              "  const inputElement = document.getElementById(inputId);\n",
              "  inputElement.disabled = false;\n",
              "\n",
              "  const outputElement = document.getElementById(outputId);\n",
              "  outputElement.innerHTML = '';\n",
              "\n",
              "  const pickedPromise = new Promise((resolve) => {\n",
              "    inputElement.addEventListener('change', (e) => {\n",
              "      resolve(e.target.files);\n",
              "    });\n",
              "  });\n",
              "\n",
              "  const cancel = document.createElement('button');\n",
              "  inputElement.parentElement.appendChild(cancel);\n",
              "  cancel.textContent = 'Cancel upload';\n",
              "  const cancelPromise = new Promise((resolve) => {\n",
              "    cancel.onclick = () => {\n",
              "      resolve(null);\n",
              "    };\n",
              "  });\n",
              "\n",
              "  // Wait for the user to pick the files.\n",
              "  const files = yield {\n",
              "    promise: Promise.race([pickedPromise, cancelPromise]),\n",
              "    response: {\n",
              "      action: 'starting',\n",
              "    }\n",
              "  };\n",
              "\n",
              "  cancel.remove();\n",
              "\n",
              "  // Disable the input element since further picks are not allowed.\n",
              "  inputElement.disabled = true;\n",
              "\n",
              "  if (!files) {\n",
              "    return {\n",
              "      response: {\n",
              "        action: 'complete',\n",
              "      }\n",
              "    };\n",
              "  }\n",
              "\n",
              "  for (const file of files) {\n",
              "    const li = document.createElement('li');\n",
              "    li.append(span(file.name, {fontWeight: 'bold'}));\n",
              "    li.append(span(\n",
              "        `(${file.type || 'n/a'}) - ${file.size} bytes, ` +\n",
              "        `last modified: ${\n",
              "            file.lastModifiedDate ? file.lastModifiedDate.toLocaleDateString() :\n",
              "                                    'n/a'} - `));\n",
              "    const percent = span('0% done');\n",
              "    li.appendChild(percent);\n",
              "\n",
              "    outputElement.appendChild(li);\n",
              "\n",
              "    const fileDataPromise = new Promise((resolve) => {\n",
              "      const reader = new FileReader();\n",
              "      reader.onload = (e) => {\n",
              "        resolve(e.target.result);\n",
              "      };\n",
              "      reader.readAsArrayBuffer(file);\n",
              "    });\n",
              "    // Wait for the data to be ready.\n",
              "    let fileData = yield {\n",
              "      promise: fileDataPromise,\n",
              "      response: {\n",
              "        action: 'continue',\n",
              "      }\n",
              "    };\n",
              "\n",
              "    // Use a chunked sending to avoid message size limits. See b/62115660.\n",
              "    let position = 0;\n",
              "    do {\n",
              "      const length = Math.min(fileData.byteLength - position, MAX_PAYLOAD_SIZE);\n",
              "      const chunk = new Uint8Array(fileData, position, length);\n",
              "      position += length;\n",
              "\n",
              "      const base64 = btoa(String.fromCharCode.apply(null, chunk));\n",
              "      yield {\n",
              "        response: {\n",
              "          action: 'append',\n",
              "          file: file.name,\n",
              "          data: base64,\n",
              "        },\n",
              "      };\n",
              "\n",
              "      let percentDone = fileData.byteLength === 0 ?\n",
              "          100 :\n",
              "          Math.round((position / fileData.byteLength) * 100);\n",
              "      percent.textContent = `${percentDone}% done`;\n",
              "\n",
              "    } while (position < fileData.byteLength);\n",
              "  }\n",
              "\n",
              "  // All done.\n",
              "  yield {\n",
              "    response: {\n",
              "      action: 'complete',\n",
              "    }\n",
              "  };\n",
              "}\n",
              "\n",
              "scope.google = scope.google || {};\n",
              "scope.google.colab = scope.google.colab || {};\n",
              "scope.google.colab._files = {\n",
              "  _uploadFiles,\n",
              "  _uploadFilesContinue,\n",
              "};\n",
              "})(self);\n",
              "</script> "
            ],
            "text/plain": [
              "<IPython.core.display.HTML object>"
            ]
          },
          "metadata": {},
          "output_type": "display_data"
        }
      ]
    },
    {
      "cell_type": "code",
      "source": [
        "from nltk.tokenize import word_tokenize\n",
        "from nltk.corpus import stopwords\n",
        "from nltk.stem import PorterStemmer\n",
        "\n",
        "# Download necessary NLTK data if not already available\n",
        "import nltk\n",
        "nltk.download('punkt')\n",
        "nltk.download('stopwords')\n",
        "nltk.download('punkt_tab')\n",
        "\n",
        "# Initialize the stopwords and stemmer\n",
        "stop_words = set(stopwords.words('english'))\n",
        "stemmer = PorterStemmer()\n",
        "\n",
        "# Assuming 'df' is your DataFrame containing the 'text' column with comments\n",
        "comments = df['text'].fillna('').tolist()  # Replace NaN with an empty string\n",
        "\n",
        "def preprocess_text(text):\n",
        "    # Return an empty list if the input is not a string or if it's empty\n",
        "    if not isinstance(text, str) or not text.strip():\n",
        "        return []\n",
        "\n",
        "    # Tokenize, remove stopwords, and apply stemming\n",
        "    tokens = word_tokenize(text.lower())\n",
        "    tokens = [word for word in tokens if word.isalpha() and word not in stop_words]\n",
        "    tokens = [stemmer.stem(word) for word in tokens]\n",
        "\n",
        "    # Remove empty tokens\n",
        "    tokens = [word for word in tokens if word]\n",
        "    return tokens\n",
        "\n",
        "# Apply preprocessing to all comments, filter out any empty processed comments\n",
        "processed_comments = [preprocess_text(comment) for comment in comments]\n",
        "processed_comments = [comment for comment in processed_comments if comment]  # Remove empty lists\n",
        "\n",
        "# Show the first few preprocessed comments\n",
        "print(processed_comments[:5])  # Only show the first 5 to check\n",
        "print(type(processed_comments))  # Should be a list of lists\n"
      ],
      "metadata": {
        "id": "dE_-nTknD0T6",
        "colab": {
          "base_uri": "https://localhost:8080/"
        },
        "outputId": "019355e2-dc0e-444a-b4d4-49c900c72335"
      },
      "execution_count": null,
      "outputs": [
        {
          "output_type": "stream",
          "name": "stderr",
          "text": [
            "/usr/local/lib/python3.10/dist-packages/ipykernel/ipkernel.py:283: DeprecationWarning: `should_run_async` will not call `transform_cell` automatically in the future. Please pass the result to `transformed_cell` argument and any exception that happen during thetransform in `preprocessing_exc_tuple` in IPython 7.17 and above.\n",
            "  and should_run_async(code)\n",
            "[nltk_data] Downloading package punkt to /root/nltk_data...\n",
            "[nltk_data]   Package punkt is already up-to-date!\n",
            "[nltk_data] Downloading package stopwords to /root/nltk_data...\n",
            "[nltk_data]   Package stopwords is already up-to-date!\n",
            "[nltk_data] Downloading package punkt_tab to /root/nltk_data...\n",
            "[nltk_data]   Package punkt_tab is already up-to-date!\n"
          ]
        },
        {
          "output_type": "stream",
          "name": "stdout",
          "text": [
            "[['jesu', 'king', 'button'], ['releas', 'gta', 'peopl'], ['best', 'presid', 'ever'], ['america', 'first', 'mean', 'american', 'first'], ['save', 'brasil', 'pleas']]\n",
            "<class 'list'>\n"
          ]
        }
      ]
    },
    {
      "cell_type": "code",
      "source": [
        "# Create a dictionary and corpus for gensim\n",
        "dictionary = corpora.Dictionary(processed_comments)\n",
        "corpus = [dictionary.doc2bow(text) for text in processed_comments]\n",
        "\n",
        "# Check the dictionary and corpus length\n",
        "print(f\"Number of words in the dictionary: {len(dictionary)}\")\n",
        "print(f\"Number of documents in the corpus: {len(corpus)}\")\n"
      ],
      "metadata": {
        "id": "VV7qyUzhEwYa"
      },
      "execution_count": null,
      "outputs": []
    },
    {
      "cell_type": "code",
      "source": [
        "from sklearn.feature_extraction.text import TfidfVectorizer\n",
        "\n",
        "# Convert the processed comments into a list of strings (each comment as a space-separated string of words)\n",
        "processed_comments_strings = [' '.join(comment) for comment in processed_comments]\n",
        "\n",
        "# Vectorizing the comments using TF-IDF\n",
        "vectorizer = TfidfVectorizer(max_features=1000)  # You can adjust the max_features depending on your data\n",
        "X = vectorizer.fit_transform(processed_comments_strings)\n",
        "\n",
        "# Check the shape of the resulting TF-IDF matrix\n",
        "print(X.shape)\n"
      ],
      "metadata": {
        "id": "WcqAzxUAPCn2",
        "colab": {
          "base_uri": "https://localhost:8080/"
        },
        "outputId": "536d86ea-2165-4fd9-af85-ba5a6de90add"
      },
      "execution_count": null,
      "outputs": [
        {
          "output_type": "stream",
          "name": "stdout",
          "text": [
            "(383, 838)\n"
          ]
        },
        {
          "output_type": "stream",
          "name": "stderr",
          "text": [
            "/usr/local/lib/python3.10/dist-packages/ipykernel/ipkernel.py:283: DeprecationWarning: `should_run_async` will not call `transform_cell` automatically in the future. Please pass the result to `transformed_cell` argument and any exception that happen during thetransform in `preprocessing_exc_tuple` in IPython 7.17 and above.\n",
            "  and should_run_async(code)\n"
          ]
        }
      ]
    },
    {
      "cell_type": "code",
      "source": [
        "from sklearn.decomposition import LatentDirichletAllocation\n",
        "\n",
        "# Fit the LDA model on the TF-IDF matrix\n",
        "lda = LatentDirichletAllocation(n_components=5, random_state=42)  # You can change the number of topics\n",
        "lda.fit(X)\n",
        "\n",
        "# Display the top words for each topic\n",
        "n_words = 5\n",
        "feature_names = vectorizer.get_feature_names_out()\n",
        "\n",
        "for topic_idx, topic in enumerate(lda.components_):\n",
        "    print(f\"Topic #{topic_idx}:\")\n",
        "    print([feature_names[i] for i in topic.argsort()[:-n_words - 1:-1]])\n",
        "    print(\"\\n\")\n"
      ],
      "metadata": {
        "id": "mUwrTqfGPGyv",
        "colab": {
          "base_uri": "https://localhost:8080/"
        },
        "outputId": "851f5553-82fc-4b97-959a-7f723990f14d"
      },
      "execution_count": null,
      "outputs": [
        {
          "output_type": "stream",
          "name": "stderr",
          "text": [
            "/usr/local/lib/python3.10/dist-packages/ipykernel/ipkernel.py:283: DeprecationWarning: `should_run_async` will not call `transform_cell` automatically in the future. Please pass the result to `transformed_cell` argument and any exception that happen during thetransform in `preprocessing_exc_tuple` in IPython 7.17 and above.\n",
            "  and should_run_async(code)\n"
          ]
        },
        {
          "output_type": "stream",
          "name": "stdout",
          "text": [
            "Topic #0:\n",
            "['happi', 'year', 'presid', 'back', 'come']\n",
            "\n",
            "\n",
            "Topic #1:\n",
            "['way', 'countri', 'lo', 'grate', 'عمو']\n",
            "\n",
            "\n",
            "Topic #2:\n",
            "['trump', 'go', 'let', 'great', 'make']\n",
            "\n",
            "\n",
            "Topic #3:\n",
            "['joy', 'goat', 'deserv', 'trump', 'beauti']\n",
            "\n",
            "\n",
            "Topic #4:\n",
            "['presid', 'love', 'best', 'god', 'trump']\n",
            "\n",
            "\n"
          ]
        }
      ]
    },
    {
      "cell_type": "code",
      "source": [
        "import pyLDAvis.lda_model\n",
        "\n",
        "pyLDAvis.enable_notebook()\n",
        "vis = pyLDAvis.lda_model.prepare(lda, X, vectorizer)\n",
        "pyLDAvis.display(vis)"
      ],
      "metadata": {
        "id": "dornUKElPMCq",
        "colab": {
          "base_uri": "https://localhost:8080/",
          "height": 917
        },
        "outputId": "1ad77963-252f-4392-aedf-6fc4cf4e8b99"
      },
      "execution_count": null,
      "outputs": [
        {
          "output_type": "stream",
          "name": "stderr",
          "text": [
            "/usr/local/lib/python3.10/dist-packages/ipykernel/ipkernel.py:283: DeprecationWarning: `should_run_async` will not call `transform_cell` automatically in the future. Please pass the result to `transformed_cell` argument and any exception that happen during thetransform in `preprocessing_exc_tuple` in IPython 7.17 and above.\n",
            "  and should_run_async(code)\n"
          ]
        },
        {
          "output_type": "execute_result",
          "data": {
            "text/plain": [
              "<IPython.core.display.HTML object>"
            ],
            "text/html": [
              "\n",
              "<link rel=\"stylesheet\" type=\"text/css\" href=\"https://cdn.jsdelivr.net/gh/bmabey/pyLDAvis@3.4.0/pyLDAvis/js/ldavis.v1.0.0.css\">\n",
              "\n",
              "\n",
              "<div id=\"ldavis_el47011356025402581129328271569\" style=\"background-color:white;\"></div>\n",
              "<script type=\"text/javascript\">\n",
              "\n",
              "var ldavis_el47011356025402581129328271569_data = {\"mdsDat\": {\"x\": [0.12158836254571552, -0.04209920478441084, -0.02049741438997982, -0.024744531752537578, -0.034247211618787333], \"y\": [0.011330039718187614, 0.088380990952645, -0.06560976565678667, -0.0178407918855526, -0.01626047312849334], \"topics\": [1, 2, 3, 4, 5], \"cluster\": [1, 1, 1, 1, 1], \"Freq\": [29.620047984626595, 23.128166922376874, 17.90467474616365, 16.06455864031518, 13.282551706517696]}, \"tinfo\": {\"Term\": [\"best\", \"love\", \"presid\", \"trump\", \"god\", \"bless\", \"button\", \"happi\", \"christma\", \"year\", \"ever\", \"let\", \"go\", \"merri\", \"come\", \"way\", \"new\", \"great\", \"usa\", \"back\", \"make\", \"goat\", \"american\", \"joy\", \"legend\", \"thanksgiv\", \"fuck\", \"time\", \"lol\", \"thank\", \"best\", \"bless\", \"button\", \"christma\", \"merri\", \"usa\", \"god\", \"love\", \"ever\", \"time\", \"look\", \"presid\", \"famili\", \"better\", \"state\", \"becom\", \"donald\", \"salv\", \"classic\", \"savag\", \"karma\", \"freak\", \"live\", \"america\", \"trust\", \"amaz\", \"nation\", \"never\", \"meme\", \"sea\", \"favorit\", \"mr\", \"greatest\", \"realdonaldtrump\", \"trump\", \"am\\u00e9rica\", \"canada\", \"back\", \"funni\", \"maga\", \"good\", \"great\", \"happi\", \"year\", \"come\", \"new\", \"american\", \"thanksgiv\", \"king\", \"enough\", \"free\", \"biggest\", \"januari\", \"ca\", \"wait\", \"stay\", \"pleas\", \"comeback\", \"right\", \"\\u062c\\u0627\\u0646\", \"get\", \"book\", \"embarrass\", \"brilliant\", \"slay\", \"soon\", \"welcom\", \"christ\", \"anyon\", \"palestin\", \"guess\", \"\\u06a9\\u0631\\u06cc\\u0633\\u0645\\u0633\", \"back\", \"save\", \"keep\", \"peopl\", \"histori\", \"world\", \"presid\", \"fight\", \"like\", \"america\", \"trump\", \"proud\", \"jesu\", \"let\", \"legend\", \"go\", \"lol\", \"troll\", \"make\", \"con\", \"latino\", \"fuck\", \"russia\", \"got\", \"amen\", \"great\", \"potu\", \"\\u0627\\u06cc\\u0631\\u0627\\u0646\", \"\\u0645\\u0631\\u062f\\u0645\", \"news\", \"gooo\", \"salva\", \"wive\", \"oscar\", \"hour\", \"presidenti\", \"legit\", \"chat\", \"shambl\", \"portrait\", \"\\u0628\\u0631\\u0627\\u06cc\", \"troller\", \"real\", \"leg\\u00edtimo\", \"trump\", \"thank\", \"us\", \"nosso\", \"sir\", \"help\", \"bolsonaro\", \"post\", \"president\", \"histori\", \"one\", \"canada\", \"presid\", \"way\", \"lo\", \"\\u0639\\u0645\\u0648\", \"grate\", \"australia\", \"brother\", \"satan\\u00e1\", \"excel\", \"maniac\", \"somo\", \"silent\", \"etern\", \"mondo\", \"nel\", \"award\", \"buy\", \"\\u0628\\u0647\\u062a\\u0631\\u06cc\\u0646\", \"\\u062a\\u0648\", \"babi\", \"that\", \"anymor\", \"\\u0633\\u0644\\u0627\\u0645\", \"threw\", \"unc\", \"se\", \"idk\", \"men\", \"two\", \"isnt\", \"bore\", \"certifi\", \"countri\", \"\\u062a\\u0631\\u0627\\u0645\\u067e\", \"day\", \"president\", \"talk\", \"mr\", \"post\", \"run\", \"thank\", \"brasil\", \"presid\", \"know\", \"love\", \"goat\", \"joy\", \"hahahahahahahahahha\", \"habib\", \"omg\", \"lfg\", \"vamo\", \"keepmomentum\", \"la\", \"well\", \"hint\", \"hooooooooooooooo\", \"woooooooooooooo\", \"cima\", \"pra\", \"self\", \"gta\", \"releas\", \"shake\", \"flow\", \"prais\", \"heartwarm\", \"deserv\", \"cook\", \"fri\", \"made\", \"hallelujah\", \"washington\", \"georg\", \"gl\\u00f3ria\", \"beauti\", \"even\", \"man\", \"sight\", \"biden\", \"laugh\", \"peopl\", \"trump\", \"save\", \"someth\"], \"Freq\": [6.0, 7.0, 13.0, 11.0, 6.0, 4.0, 4.0, 3.0, 4.0, 2.0, 4.0, 2.0, 2.0, 3.0, 2.0, 1.0, 2.0, 2.0, 2.0, 3.0, 2.0, 1.0, 2.0, 1.0, 1.0, 2.0, 1.0, 2.0, 1.0, 2.0, 6.521430987000501, 4.403882713160793, 4.149229605002461, 3.6434139664814027, 3.1586375596134615, 2.558658355849707, 5.357328806467819, 6.787838970016261, 3.82514011906455, 2.2469426679315943, 1.2452241957862658, 9.653006665705897, 1.413344838057565, 0.8465624771416894, 0.9345314258676427, 1.1510263971042551, 1.6701095818076308, 0.6388861604169643, 0.6343894563409124, 0.6343894562952233, 0.6343894561927352, 0.6195509375506144, 1.2359782219745354, 2.645887284943261, 0.5926567809125418, 0.586561189963119, 0.5916803802079655, 0.8912161885209176, 0.5795240210843523, 0.5933189217250496, 0.9159591604940688, 1.3940547678277786, 1.5431686946435375, 0.8943641520867568, 4.609309132129717, 0.8350388388239367, 1.3436319042896028, 1.4396054451016196, 0.8701218494154812, 0.8405187011306661, 0.859230845789884, 0.879622044373652, 3.0630912377911037, 2.4752924398996474, 2.139628009569966, 2.0717236591970614, 1.8552073502837432, 1.7016253394282694, 1.4316361913882736, 1.0586414157470687, 1.037567033152687, 1.0167599601697728, 0.9906865831335032, 0.8431485133961807, 1.486196709652334, 0.805835315154211, 1.2345664607290754, 0.7555541186594338, 0.9320672023798248, 0.737534236422045, 1.23148619791993, 0.7156170407563789, 0.6479230815375376, 0.6014061864309077, 0.6014061864208712, 0.5722478557380227, 0.5671104576426543, 0.5643723215305312, 0.538216039312372, 1.0106315001032493, 0.5189184578035397, 0.5120319632954364, 2.1582424336950323, 0.9552170647092677, 0.7889670660097808, 1.2831234293294287, 1.1305764009479888, 0.815528215584462, 2.4324497162232026, 0.7146877037889308, 0.8384399596709403, 1.0440378736709286, 1.1547856293160912, 0.7997244341424229, 0.7933658910170907, 1.8054761074117134, 1.236609701001408, 1.9004098047360487, 1.0154390198112537, 0.8881737225769283, 1.4229717048735604, 0.7071073102921769, 0.7071073102921769, 1.1280374826131332, 0.6455354937580021, 0.5922199421756166, 0.8518024797616429, 1.689262838490089, 0.5229629479647296, 0.4769664762699972, 0.4769664762699972, 0.4609898421162579, 0.4553579943149419, 0.452057855573998, 0.4461702716212623, 0.4440519843434656, 0.44078753514973895, 0.4378140818152709, 0.43295053110892867, 0.43295022241484876, 0.42522039406228884, 0.4252203392662003, 0.41793936714211294, 0.40822866876419744, 0.6536253290531063, 0.5733412995725236, 4.952229117738721, 1.135093197136012, 0.7219058940055839, 0.5575329151818537, 0.5719023045199586, 0.6523313525594142, 0.5398701744480487, 0.6450305821986564, 0.6094916435462565, 0.6283049300415858, 0.4960521538153928, 0.5875106737671068, 0.579154456608756, 1.4628301044179428, 0.815390051563131, 0.6962584974206918, 0.7470488286911924, 0.5737798333447327, 0.5441639741468012, 0.5441639741467793, 0.5110367608033021, 0.4405928197856952, 0.42826341810763857, 0.425005186840157, 0.4150673470360371, 0.411347860085209, 0.411347860085209, 0.41134786008437907, 0.41134786008437907, 0.4113478600774118, 0.4113478600774118, 0.39426072880866925, 0.5448023773808393, 0.4878817662567388, 0.37443514745283235, 0.3716059863790844, 0.3716059863790844, 0.3715566101642615, 0.36846097500077796, 0.365221185394912, 0.365221185394912, 0.36126437961470975, 0.3573384615944693, 0.694180298415357, 0.9920867251412075, 0.6278895830915311, 0.6142509065432274, 0.6608325933865818, 0.43593250353057156, 0.6695577964312279, 0.6428517281898688, 0.4966224366035846, 0.6459559430043217, 0.49137812314593365, 0.6791559446270755, 0.43767749252599203, 0.4911159933948047, 0.9199292584899484, 0.9255132327944642, 0.5017499454543278, 0.5017499454542563, 0.5017499454531029, 0.5017499454527534, 0.5017499454522012, 0.5017499454487304, 0.45152103722026093, 0.5537226868024723, 0.4062496062441697, 0.37928571312856607, 0.37928571312856607, 0.3668885801613023, 0.3668885801613023, 0.36569091061075454, 0.34758302890705733, 0.34758302890705733, 0.3473233024516538, 0.33732889513855085, 0.33732889513855085, 0.3323505456800959, 0.6703555737998208, 0.33024108984208017, 0.33024108984208017, 0.3225157778643244, 0.30868791241788707, 0.3053398488340478, 0.3053398488340478, 0.3001655673031093, 0.5730067566751099, 0.5368789827855519, 0.5544988174162339, 0.43633677363941675, 0.3856892449468296, 0.40076192944082895, 0.44314161011560316, 0.5893559361920284, 0.37643825011820853, 0.35102867468423854], \"Total\": [6.0, 7.0, 13.0, 11.0, 6.0, 4.0, 4.0, 3.0, 4.0, 2.0, 4.0, 2.0, 2.0, 3.0, 2.0, 1.0, 2.0, 2.0, 2.0, 3.0, 2.0, 1.0, 2.0, 1.0, 1.0, 2.0, 1.0, 2.0, 1.0, 2.0, 6.8890602201922775, 4.772580469549211, 4.516259670122172, 4.011191640578007, 3.5258535786317062, 2.9254962305820915, 6.211238956960356, 7.884603973867452, 4.572619269054655, 2.7092252595863404, 1.6126140060009277, 13.427501036216299, 1.967580336063384, 1.212681923107482, 1.3626971465646323, 1.699258795107019, 2.500589457595952, 1.00497107508145, 1.0005270687404386, 1.0005270687317998, 1.0005270687158447, 0.9856122459340162, 1.9678042179070805, 4.234610958621122, 0.9587643021290565, 0.9526194885550463, 0.9611945025697138, 1.4513011610257682, 0.9455935726209198, 0.9685933792572872, 1.5146519510120504, 2.338985625611746, 2.8997113226609565, 1.5741311677646899, 11.658367327727614, 1.4956818931025173, 2.984276380572714, 3.8649318151141454, 1.713257705942367, 1.6976764348317257, 2.0084458180288474, 2.8467306855606194, 3.449880517157756, 2.849911028256709, 2.5112652206158095, 2.445599701967782, 2.391125113089561, 2.220208866139892, 1.9247585965398368, 1.4306548549537434, 1.4091352754869002, 1.389287529207836, 1.3624544247280197, 1.2150566425636453, 2.169682470932507, 1.17741198816785, 1.8161139251057983, 1.127120151099997, 1.3956517465672316, 1.1090895555956835, 1.8687509158924542, 1.0871713232421114, 1.0194977966884506, 0.9730219513365217, 0.9730219513363598, 0.9438023701594273, 0.9391243729467761, 0.9359243607949356, 0.9097707225502165, 1.7142399368384726, 0.8905054699531545, 0.88358649120512, 3.8649318151141454, 1.677548765024286, 1.3759487944191677, 2.7662489048355003, 2.3792194836795777, 1.6268191904422413, 13.427501036216299, 1.3832063255750169, 2.0557288473149926, 4.234610958621122, 11.658367327727614, 1.9260852822446521, 1.8682629531879467, 2.189778792032596, 1.6197478775661194, 2.5665003580200283, 1.3958359135936091, 1.2685622372677916, 2.1802655677414613, 1.0874974979939611, 1.0874974979939611, 1.7529066576910663, 1.0264103182820832, 0.9726056773879873, 1.4297170838757736, 2.8467306855606194, 0.9033497591997912, 0.8573403217218097, 0.8573403217218097, 0.8413964233939212, 0.8357643917010606, 0.8324687657822543, 0.8265614365065359, 0.824466969224379, 0.8211663621074078, 0.8182283111240499, 0.8133576156858087, 0.8133576417048868, 0.8056282648752142, 0.8056283042934637, 0.7983164193857943, 0.7886326237663787, 1.278685803292664, 1.1260397092447203, 11.658367327727614, 2.6805608306076865, 1.7572691253683437, 1.2360551555297565, 1.3436866403017265, 1.8868653351662619, 1.3801441846239275, 2.292855449507787, 1.9668760249719863, 2.3792194836795777, 1.2418832808921318, 2.984276380572714, 13.427501036216299, 1.9019984949171036, 1.196476102622426, 1.077362807147142, 1.2036088395532454, 0.9548820445460175, 0.9253003147923129, 0.9253003147922964, 0.8921966951698574, 0.8217083733802448, 0.8093576378656644, 0.8061026945829693, 0.7961816913033994, 0.7924642063285221, 0.7924642063285221, 0.7924642063286009, 0.7924642063286009, 0.7924642063279461, 0.7924642063279461, 0.7843316798137304, 1.0852325215991974, 0.9842697274693405, 0.7555425791298953, 0.7527134124181941, 0.7527134124181941, 0.7526467855416629, 0.7495686525401432, 0.7463303806567093, 0.7463303806567093, 0.7423690297453677, 0.7384473570439166, 1.6416879822138657, 2.6781244913448035, 1.5572569657487276, 1.6895867658465367, 1.9668760249719863, 1.0187687851285887, 2.338985625611746, 2.292855449507787, 1.3578666965950035, 2.6805608306076865, 1.716400201000717, 13.427501036216299, 1.3533544545331082, 7.884603973867452, 1.3081203840690852, 1.475824739338729, 0.8899495724827053, 0.8899495724827304, 0.8899495724828421, 0.8899495724828984, 0.8899495724829879, 0.889949572483411, 0.8396829255145223, 1.0489066977090027, 0.794431969344769, 0.7674675679409464, 0.7674675679409464, 0.7550695807657922, 0.7550695807657922, 0.7538529100600382, 0.7357585043020438, 0.7357585043020438, 0.7354972707939751, 0.7268015308160931, 0.7268015308160931, 0.7205248067185385, 1.4543019729571172, 0.7184157263159656, 0.7184157263159656, 0.7106861235020333, 0.6979743498071522, 0.6964213807368014, 0.6964213807368016, 0.688336358782365, 1.3974736426783068, 1.5046688130050097, 1.6059504555966986, 1.1518366263803914, 0.9926476601176959, 1.1671254829634439, 2.7662489048355003, 11.658367327727614, 1.677548765024286, 1.4531679222217184], \"Category\": [\"Default\", \"Default\", \"Default\", \"Default\", \"Default\", \"Default\", \"Default\", \"Default\", \"Default\", \"Default\", \"Default\", \"Default\", \"Default\", \"Default\", \"Default\", \"Default\", \"Default\", \"Default\", \"Default\", \"Default\", \"Default\", \"Default\", \"Default\", \"Default\", \"Default\", \"Default\", \"Default\", \"Default\", \"Default\", \"Default\", \"Topic1\", \"Topic1\", \"Topic1\", \"Topic1\", \"Topic1\", \"Topic1\", \"Topic1\", \"Topic1\", \"Topic1\", \"Topic1\", \"Topic1\", \"Topic1\", \"Topic1\", \"Topic1\", \"Topic1\", \"Topic1\", \"Topic1\", \"Topic1\", \"Topic1\", \"Topic1\", \"Topic1\", \"Topic1\", \"Topic1\", \"Topic1\", \"Topic1\", \"Topic1\", \"Topic1\", \"Topic1\", \"Topic1\", \"Topic1\", \"Topic1\", \"Topic1\", \"Topic1\", \"Topic1\", \"Topic1\", \"Topic1\", \"Topic1\", \"Topic1\", \"Topic1\", \"Topic1\", \"Topic1\", \"Topic1\", \"Topic2\", \"Topic2\", \"Topic2\", \"Topic2\", \"Topic2\", \"Topic2\", \"Topic2\", \"Topic2\", \"Topic2\", \"Topic2\", \"Topic2\", \"Topic2\", \"Topic2\", \"Topic2\", \"Topic2\", \"Topic2\", \"Topic2\", \"Topic2\", \"Topic2\", \"Topic2\", \"Topic2\", \"Topic2\", \"Topic2\", \"Topic2\", \"Topic2\", \"Topic2\", \"Topic2\", \"Topic2\", \"Topic2\", \"Topic2\", \"Topic2\", \"Topic2\", \"Topic2\", \"Topic2\", \"Topic2\", \"Topic2\", \"Topic2\", \"Topic2\", \"Topic2\", \"Topic2\", \"Topic2\", \"Topic2\", \"Topic2\", \"Topic3\", \"Topic3\", \"Topic3\", \"Topic3\", \"Topic3\", \"Topic3\", \"Topic3\", \"Topic3\", \"Topic3\", \"Topic3\", \"Topic3\", \"Topic3\", \"Topic3\", \"Topic3\", \"Topic3\", \"Topic3\", \"Topic3\", \"Topic3\", \"Topic3\", \"Topic3\", \"Topic3\", \"Topic3\", \"Topic3\", \"Topic3\", \"Topic3\", \"Topic3\", \"Topic3\", \"Topic3\", \"Topic3\", \"Topic3\", \"Topic3\", \"Topic3\", \"Topic3\", \"Topic3\", \"Topic3\", \"Topic3\", \"Topic3\", \"Topic3\", \"Topic3\", \"Topic3\", \"Topic3\", \"Topic3\", \"Topic3\", \"Topic3\", \"Topic4\", \"Topic4\", \"Topic4\", \"Topic4\", \"Topic4\", \"Topic4\", \"Topic4\", \"Topic4\", \"Topic4\", \"Topic4\", \"Topic4\", \"Topic4\", \"Topic4\", \"Topic4\", \"Topic4\", \"Topic4\", \"Topic4\", \"Topic4\", \"Topic4\", \"Topic4\", \"Topic4\", \"Topic4\", \"Topic4\", \"Topic4\", \"Topic4\", \"Topic4\", \"Topic4\", \"Topic4\", \"Topic4\", \"Topic4\", \"Topic4\", \"Topic4\", \"Topic4\", \"Topic4\", \"Topic4\", \"Topic4\", \"Topic4\", \"Topic4\", \"Topic4\", \"Topic4\", \"Topic4\", \"Topic4\", \"Topic4\", \"Topic4\", \"Topic5\", \"Topic5\", \"Topic5\", \"Topic5\", \"Topic5\", \"Topic5\", \"Topic5\", \"Topic5\", \"Topic5\", \"Topic5\", \"Topic5\", \"Topic5\", \"Topic5\", \"Topic5\", \"Topic5\", \"Topic5\", \"Topic5\", \"Topic5\", \"Topic5\", \"Topic5\", \"Topic5\", \"Topic5\", \"Topic5\", \"Topic5\", \"Topic5\", \"Topic5\", \"Topic5\", \"Topic5\", \"Topic5\", \"Topic5\", \"Topic5\", \"Topic5\", \"Topic5\", \"Topic5\", \"Topic5\", \"Topic5\", \"Topic5\", \"Topic5\", \"Topic5\", \"Topic5\"], \"logprob\": [30.0, 29.0, 28.0, 27.0, 26.0, 25.0, 24.0, 23.0, 22.0, 21.0, 20.0, 19.0, 18.0, 17.0, 16.0, 15.0, 14.0, 13.0, 12.0, 11.0, 10.0, 9.0, 8.0, 7.0, 6.0, 5.0, 4.0, 3.0, 2.0, 1.0, -3.5575, -3.9501, -4.0097, -4.1397, -4.2825, -4.4931, -3.7542, -3.5175, -4.091, -4.6231, -5.2133, -3.1654, -5.0867, -5.5992, -5.5003, -5.292, -4.9197, -5.8807, -5.8877, -5.8877, -5.8877, -5.9114, -5.2208, -4.4596, -5.9558, -5.9661, -5.9574, -5.5478, -5.9782, -5.9546, -5.5204, -5.1004, -4.9988, -5.5443, -3.9045, -5.6129, -5.1372, -5.0683, -5.5717, -5.6064, -5.5843, -5.5609, -4.0658, -4.2789, -4.4246, -4.4568, -4.5672, -4.6536, -4.8264, -5.1282, -5.1483, -5.1686, -5.1946, -5.3558, -4.789, -5.4011, -4.9745, -5.4655, -5.2556, -5.4897, -4.977, -5.5198, -5.6192, -5.6937, -5.6937, -5.7434, -5.7524, -5.7573, -5.8047, -5.1747, -5.8412, -5.8546, -4.4159, -5.231, -5.4223, -4.9359, -5.0625, -5.3891, -4.2963, -5.5211, -5.3614, -5.1421, -5.0413, -5.4087, -5.4167, -4.3384, -4.7169, -4.2872, -4.9139, -5.0478, -4.5765, -5.2758, -5.2758, -4.8088, -5.3669, -5.4531, -5.0896, -4.4049, -5.5775, -5.6695, -5.6695, -5.7036, -5.7159, -5.7232, -5.7363, -5.741, -5.7484, -5.7552, -5.7664, -5.7664, -5.7844, -5.7844, -5.8017, -5.8252, -5.3545, -5.4855, -3.3294, -4.8025, -5.2551, -5.5135, -5.488, -5.3564, -5.5457, -5.3677, -5.4244, -5.394, -5.6303, -5.4611, -5.4754, -4.4404, -5.0249, -5.1828, -5.1124, -5.3763, -5.4293, -5.4293, -5.4921, -5.6404, -5.6688, -5.6764, -5.7001, -5.7091, -5.7091, -5.7091, -5.7091, -5.7091, -5.7091, -5.7515, -5.4281, -5.5385, -5.8031, -5.8107, -5.8107, -5.8108, -5.8192, -5.828, -5.828, -5.8389, -5.8499, -5.1858, -4.8287, -5.2862, -5.3081, -5.235, -5.6511, -5.2219, -5.2626, -5.5207, -5.2578, -5.5313, -5.2077, -5.6471, -5.5319, -4.7141, -4.708, -5.3203, -5.3203, -5.3203, -5.3203, -5.3203, -5.3203, -5.4258, -5.2217, -5.5314, -5.6001, -5.6001, -5.6333, -5.6333, -5.6366, -5.6874, -5.6874, -5.6881, -5.7173, -5.7173, -5.7322, -5.0306, -5.7386, -5.7386, -5.7622, -5.806, -5.817, -5.817, -5.834, -5.1875, -5.2526, -5.2203, -5.46, -5.5833, -5.545, -5.4445, -5.1594, -5.6076, -5.6775], \"loglift\": [30.0, 29.0, 28.0, 27.0, 26.0, 25.0, 24.0, 23.0, 22.0, 21.0, 20.0, 19.0, 18.0, 17.0, 16.0, 15.0, 14.0, 13.0, 12.0, 11.0, 10.0, 9.0, 8.0, 7.0, 6.0, 5.0, 4.0, 3.0, 2.0, 1.0, 1.1619, 1.1363, 1.132, 1.1206, 1.1067, 1.0827, 1.0688, 1.0669, 1.0382, 1.0296, 0.9582, 0.8867, 0.8859, 0.8573, 0.8395, 0.8272, 0.8131, 0.7637, 0.7611, 0.7611, 0.7611, 0.7525, 0.7517, 0.7464, 0.7357, 0.7318, 0.7315, 0.7291, 0.7271, 0.7266, 0.7137, 0.6992, 0.5859, 0.6514, 0.2888, 0.6339, 0.4187, 0.2291, 0.5392, 0.5137, 0.3676, 0.0423, 1.3452, 1.3232, 1.304, 1.2982, 1.2104, 1.1981, 1.1681, 1.163, 1.158, 1.1519, 1.1455, 1.0987, 1.0858, 1.0849, 1.0781, 1.0641, 1.0604, 1.0561, 1.0471, 1.0459, 1.0108, 0.983, 0.983, 0.9638, 0.9597, 0.9583, 0.9392, 0.9357, 0.9241, 0.9185, 0.8815, 0.901, 0.9079, 0.6959, 0.7201, 0.7736, -0.2443, 0.8038, 0.5673, 0.0639, -0.848, 0.5851, 0.6076, 1.5271, 1.4502, 1.4196, 1.4019, 1.3636, 1.2934, 1.2897, 1.2897, 1.2793, 1.2564, 1.224, 1.2022, 1.1982, 1.1735, 1.1337, 1.1337, 1.1184, 1.1128, 1.1095, 1.1035, 1.1013, 1.0979, 1.0948, 1.0896, 1.0896, 1.0811, 1.0811, 1.0729, 1.0616, 1.0491, 1.0451, 0.8639, 0.8608, 0.8305, 0.9239, 0.8659, 0.658, 0.7815, 0.4519, 0.5485, 0.3886, 0.8024, 0.0949, -1.4234, 1.566, 1.4451, 1.392, 1.3516, 1.3192, 1.2977, 1.2977, 1.2713, 1.2053, 1.1921, 1.1884, 1.1772, 1.1728, 1.1728, 1.1728, 1.1728, 1.1728, 1.1728, 1.1407, 1.1394, 1.1267, 1.1265, 1.1227, 1.1227, 1.1227, 1.1184, 1.1139, 1.1139, 1.1083, 1.1027, 0.9678, 0.8355, 0.9202, 0.8167, 0.7379, 0.9797, 0.5777, 0.5569, 0.8227, 0.4055, 0.5778, -1.1557, 0.6997, -0.9474, 1.6667, 1.5521, 1.4457, 1.4457, 1.4457, 1.4457, 1.4457, 1.4457, 1.3983, 1.3799, 1.3481, 1.3139, 1.3139, 1.297, 1.297, 1.2953, 1.2688, 1.2688, 1.2684, 1.2511, 1.2511, 1.2449, 1.2442, 1.2415, 1.2415, 1.2286, 1.2029, 1.1942, 1.1942, 1.1888, 1.1272, 0.9882, 0.9553, 1.048, 1.0734, 0.9498, 0.1874, -0.966, 0.5244, 0.5981]}, \"token.table\": {\"Topic\": [1, 3, 1, 2, 2, 1, 2, 4, 1, 2, 5, 1, 1, 1, 2, 1, 3, 2, 2, 4, 1, 2, 1, 3, 4, 2, 1, 1, 2, 2, 3, 1, 2, 4, 4, 5, 1, 2, 2, 1, 5, 1, 4, 1, 1, 2, 1, 2, 3, 1, 2, 3, 5, 1, 2, 1, 2, 3, 4, 1, 3, 1, 2, 2, 5, 5, 2, 1, 3, 2, 3, 2, 1, 2, 5, 1, 2, 5, 2, 3, 3, 3, 3, 5, 2, 1, 4, 3, 1, 1, 1, 3, 1, 5, 1, 1, 1, 4, 1, 1, 2, 3, 5, 2, 1, 2, 2, 1, 3, 4, 3, 1, 2, 3, 4, 1, 3, 4, 1, 2, 3, 1, 2, 2, 3, 1, 4, 1, 2, 1, 3, 2, 2, 2, 1, 2, 1, 3, 4, 2, 4, 1, 3, 1, 2, 3, 5, 1, 3, 1, 5, 2, 4, 2, 5, 2, 2, 2, 4, 2, 4, 2], \"Freq\": [1.049737079719859, 0.6994390787365655, 0.7084476069501465, 0.23614920231671552, 0.8364263287820225, 0.6685913659927271, 1.0991780403713785, 1.0472497683998583, 0.25873677669795225, 0.5174735533959045, 0.7155770022849699, 0.5884918782703844, 1.016103761073615, 0.8246185425420648, 0.7197934041560097, 0.838121017659408, 0.7245619777563225, 0.9198182279291978, 1.0277260432063449, 1.0807302061973834, 0.8856886654375642, 0.8230068994068476, 0.3350896071523005, 0.3350896071523005, 0.6091291468501036, 1.0684624120165451, 0.9972098963149031, 0.9994732089146752, 0.7964113004000279, 0.8872168588451409, 0.9195423454717254, 0.3733956368465367, 0.3733956368465367, 0.3733956368465367, 0.5918606964815851, 0.6876151023618854, 0.7998114180337244, 0.9808750967861003, 0.6989806077527569, 0.664598077235931, 0.664598077235931, 0.8747721523788621, 1.1208290788497248, 0.5082384600370319, 0.6602176819115615, 0.7229579430850903, 1.0145977833832098, 0.7096550752761964, 0.5704810325252588, 0.5836833516239497, 0.5351167945902693, 0.7792712725522217, 0.7644556358714975, 0.804992375055377, 0.16099847501107542, 0.4978974244779139, 0.4978974244779139, 1.0281659085988295, 0.8308347090331932, 0.35128015624107606, 0.7025603124821521, 0.6897238302206837, 0.34486191511034187, 1.1229577287746537, 1.123659172294737, 1.1236591722947689, 0.8695953338324894, 0.5299795281425765, 0.5299795281425765, 0.42030590572226306, 0.42030590572226306, 0.7339695052182206, 0.5352565591977461, 0.5352565591977461, 0.6775872319690676, 0.9994732089392432, 0.7267712316446574, 1.1236591722938778, 0.5195456727912335, 0.9195423454717254, 0.6173800341708916, 0.8880681487429425, 0.913334263386285, 1.123659172294525, 0.4864454771387334, 0.5081806365185969, 0.8357876917125286, 0.7164165861196957, 0.6201111960325022, 0.8878061628967844, 0.589040396322118, 0.45865972237313307, 0.6226842157645799, 0.6226842157645799, 1.0575367990586917, 0.850857794600825, 0.42753576125054493, 0.42753576125054493, 1.0403721591483734, 0.6890368635088859, 0.8177953237362422, 0.8090253865503385, 1.123659172294596, 0.5833489107973261, 0.36150036905643773, 0.36150036905643773, 0.550626249915321, 0.43613739375269933, 0.43613739375269933, 0.43613739375269933, 1.1069909410125087, 0.7447402143577025, 0.1489480428715405, 0.07447402143577025, 0.07447402143577025, 0.5084204531977264, 0.5084204531977264, 0.5084204531977264, 0.519187810227491, 0.519187810227491, 0.7820529464118257, 0.6352710755483153, 0.7165111228210166, 0.7364493160540776, 0.9742692392977046, 0.9950535142705007, 1.0807302061974027, 0.9994732089233049, 0.5961078573984244, 1.0324249797854237, 0.7442211375826798, 1.0277260432065158, 0.6881517164727395, 1.0595438532656787, 0.7338387715282196, 0.8493203823719192, 0.37305626068306713, 0.37305626068306713, 0.37305626068306713, 0.9008161486523777, 0.9214615117932525, 0.7382184234858976, 0.7882939997912782, 0.4288765192797003, 0.08577530385594005, 0.4288765192797003, 0.08577530385594005, 1.0430092127745834, 0.5690647980800257, 1.025467053636601, 1.123659172294412, 0.46089693464233517, 0.525762771459808, 1.0648216879540768, 0.9533736434176429, 0.6146964615828977, 0.7017762941264171, 0.6421547772747968, 0.6421547772747968, 0.9016404445923284, 0.9281924281830383, 1.1317511188249427], \"Term\": [\"amaz\", \"amen\", \"america\", \"america\", \"american\", \"am\\u00e9rica\", \"anyon\", \"australia\", \"back\", \"back\", \"beauti\", \"becom\", \"best\", \"better\", \"biggest\", \"bless\", \"bolsonaro\", \"book\", \"brilliant\", \"brother\", \"button\", \"ca\", \"canada\", \"canada\", \"certifi\", \"christ\", \"christma\", \"classic\", \"come\", \"comeback\", \"con\", \"countri\", \"countri\", \"countri\", \"day\", \"deserv\", \"donald\", \"embarrass\", \"enough\", \"even\", \"even\", \"ever\", \"excel\", \"famili\", \"favorit\", \"fight\", \"freak\", \"free\", \"fuck\", \"funni\", \"get\", \"go\", \"goat\", \"god\", \"god\", \"good\", \"good\", \"got\", \"grate\", \"great\", \"great\", \"greatest\", \"greatest\", \"guess\", \"habib\", \"hahahahahahahahahha\", \"happi\", \"help\", \"help\", \"histori\", \"histori\", \"januari\", \"jesu\", \"jesu\", \"joy\", \"karma\", \"keep\", \"keepmomentum\", \"king\", \"latino\", \"legend\", \"leg\\u00edtimo\", \"let\", \"lfg\", \"like\", \"live\", \"lo\", \"lol\", \"look\", \"love\", \"maga\", \"make\", \"man\", \"man\", \"meme\", \"merri\", \"mr\", \"mr\", \"nation\", \"never\", \"new\", \"nosso\", \"omg\", \"palestin\", \"peopl\", \"peopl\", \"pleas\", \"post\", \"post\", \"post\", \"potu\", \"presid\", \"presid\", \"presid\", \"presid\", \"president\", \"president\", \"president\", \"proud\", \"proud\", \"real\", \"realdonaldtrump\", \"right\", \"run\", \"russia\", \"salv\", \"satan\\u00e1\", \"savag\", \"save\", \"sea\", \"sir\", \"slay\", \"someth\", \"soon\", \"state\", \"stay\", \"thank\", \"thank\", \"thank\", \"thanksgiv\", \"that\", \"time\", \"troll\", \"trump\", \"trump\", \"trump\", \"trump\", \"trust\", \"us\", \"usa\", \"vamo\", \"wait\", \"way\", \"welcom\", \"well\", \"world\", \"year\", \"\\u062a\\u0631\\u0627\\u0645\\u067e\", \"\\u062a\\u0631\\u0627\\u0645\\u067e\", \"\\u062c\\u0627\\u0646\", \"\\u0639\\u0645\\u0648\", \"\\u06a9\\u0631\\u06cc\\u0633\\u0645\\u0633\"]}, \"R\": 30, \"lambda.step\": 0.01, \"plot.opts\": {\"xlab\": \"PC1\", \"ylab\": \"PC2\"}, \"topic.order\": [5, 1, 3, 2, 4]};\n",
              "\n",
              "function LDAvis_load_lib(url, callback){\n",
              "  var s = document.createElement('script');\n",
              "  s.src = url;\n",
              "  s.async = true;\n",
              "  s.onreadystatechange = s.onload = callback;\n",
              "  s.onerror = function(){console.warn(\"failed to load library \" + url);};\n",
              "  document.getElementsByTagName(\"head\")[0].appendChild(s);\n",
              "}\n",
              "\n",
              "if(typeof(LDAvis) !== \"undefined\"){\n",
              "   // already loaded: just create the visualization\n",
              "   !function(LDAvis){\n",
              "       new LDAvis(\"#\" + \"ldavis_el47011356025402581129328271569\", ldavis_el47011356025402581129328271569_data);\n",
              "   }(LDAvis);\n",
              "}else if(typeof define === \"function\" && define.amd){\n",
              "   // require.js is available: use it to load d3/LDAvis\n",
              "   require.config({paths: {d3: \"https://d3js.org/d3.v5\"}});\n",
              "   require([\"d3\"], function(d3){\n",
              "      window.d3 = d3;\n",
              "      LDAvis_load_lib(\"https://cdn.jsdelivr.net/gh/bmabey/pyLDAvis@3.4.0/pyLDAvis/js/ldavis.v3.0.0.js\", function(){\n",
              "        new LDAvis(\"#\" + \"ldavis_el47011356025402581129328271569\", ldavis_el47011356025402581129328271569_data);\n",
              "      });\n",
              "    });\n",
              "}else{\n",
              "    // require.js not available: dynamically load d3 & LDAvis\n",
              "    LDAvis_load_lib(\"https://d3js.org/d3.v5.js\", function(){\n",
              "         LDAvis_load_lib(\"https://cdn.jsdelivr.net/gh/bmabey/pyLDAvis@3.4.0/pyLDAvis/js/ldavis.v3.0.0.js\", function(){\n",
              "                 new LDAvis(\"#\" + \"ldavis_el47011356025402581129328271569\", ldavis_el47011356025402581129328271569_data);\n",
              "            })\n",
              "         });\n",
              "}\n",
              "</script>"
            ]
          },
          "metadata": {},
          "execution_count": 94
        }
      ]
    },
    {
      "cell_type": "code",
      "source": [
        "fhgrom gensim.models import LdaMulticore\n",
        "\n",
        "# Train the LDA model (set the number of topics you want to extract, e.g., 3 topics)\n",
        "num_topics = 6\n",
        "lda_model = LdaMulticore(corpus, num_topics=num_topics, id2word=dictionary, passes=10, workers=2)\n",
        "\n",
        "# Show the topics learned by the LDA model\n",
        "topics = lda_model.print_topics(num_words=5)\n",
        "for topic in topics:\n",
        "    print(topic)\n",
        "\n"
      ],
      "metadata": {
        "id": "_hmTsFHoEy-m"
      },
      "execution_count": null,
      "outputs": []
    },
    {
      "cell_type": "code",
      "source": [
        "# Visualize the topics using pyLDAvis\n",
        "vis = pyLDAvis.gensim.prepare(lda_model, corpus, dictionary)\n",
        "\n",
        "# Display the visualization\n",
        "pyLDAvis.display(vis)\n"
      ],
      "metadata": {
        "id": "Vqn9GTzrG3LF"
      },
      "execution_count": null,
      "outputs": []
    }
  ]
}